{
  "nbformat": 4,
  "nbformat_minor": 0,
  "metadata": {
    "colab": {
      "provenance": [],
      "toc_visible": true,
      "collapsed_sections": [
        "juuBehJAVQ1K"
      ],
      "authorship_tag": "ABX9TyMLkFdLZIXbXwAJTjzPgVvK",
      "include_colab_link": true
    },
    "kernelspec": {
      "name": "python3",
      "display_name": "Python 3"
    },
    "language_info": {
      "name": "python"
    }
  },
  "cells": [
    {
      "cell_type": "markdown",
      "metadata": {
        "id": "view-in-github",
        "colab_type": "text"
      },
      "source": [
        "<a href=\"https://colab.research.google.com/github/Vasanth03/Bank-Loan-Default-Prediction-Supervised-ML-Algorithms/blob/main/Banking.ipynb\" target=\"_parent\"><img src=\"https://colab.research.google.com/assets/colab-badge.svg\" alt=\"Open In Colab\"/></a>"
      ]
    },
    {
      "cell_type": "markdown",
      "source": [
        "## **Bank Loan Defaulter Prediction**"
      ],
      "metadata": {
        "id": "31_KpmuE4Xtw"
      }
    },
    {
      "cell_type": "markdown",
      "source": [
        "####**About the Dataset**\n",
        "Contains 15 features about credit applicants.\n",
        "\n",
        "*Feature Description:*\n",
        "1. Id               : Unique customer ID for the application.\n",
        "2. grade            : A quality score based on the borrower's history.\n",
        "3. annual_inc       : Annual income self-disclosed by the applicant during loan application registration.\n",
        "4. short_emp        : Duration of employment less than a year(0) otherwise(1).\n",
        "5. emp_length_num   : Length of employment from 0 to 10 years. 10 indicates    \n",
        "10 and more than 10 years of experience.\n",
        "6. home_ownership.  : Spedicfies the type of home ownership.\n",
        "7. dti              : Debt-To-Income ratio - calculated using the borrower’s   \n",
        "monthly debt(excluding mortgage, LCloan) divided by the borrower’s self-reported monthly income.\n",
        "8. purpose          : Reason for Loan request.\n",
        "9. term             : The number of months on repyment (36 or 60 months).\n",
        "10. last_delinq_none     : Atleast one event of criminal behaviour.\n",
        "11. last_major_derog_none: Atleast 90 days of bad rating.\n",
        "12. revol_util           : Percentage of credit utilization relative to the   \n",
        "available revolving credit.\n",
        "13. total_rec_late_fee   : Late fees received to date.\n",
        "14. od_ratio             : Overdraft ratio.\n",
        "15. bad_loan             : 1 when a loan was not paid.\n",
        "\n",
        "\n"
      ],
      "metadata": {
        "id": "OhdMtOL44hXy"
      }
    },
    {
      "cell_type": "markdown",
      "source": [
        "#### **`Importing Libraries and Loading Dataset`**"
      ],
      "metadata": {
        "id": "hrra2GYEDUyo"
      }
    },
    {
      "cell_type": "code",
      "execution_count": null,
      "metadata": {
        "id": "3HTsQYRlk5c4"
      },
      "outputs": [],
      "source": [
        "# Pandas library is used for Data Maniplulation and Analysis\n",
        "import pandas as pd"
      ]
    },
    {
      "cell_type": "code",
      "source": [
        "# Numpy library is used to perform mathematical operations\n",
        "import numpy as np"
      ],
      "metadata": {
        "id": "fOCHnvvNDh0M"
      },
      "execution_count": null,
      "outputs": []
    },
    {
      "cell_type": "code",
      "source": [
        "# Library used for scientific computing and technical computing\n",
        "import scipy.stats as stats"
      ],
      "metadata": {
        "id": "G-EPsT88Djxn"
      },
      "execution_count": null,
      "outputs": []
    },
    {
      "cell_type": "code",
      "source": [
        "# Used for advanced visualization\n",
        "import seaborn as sns\n",
        "\n",
        "# Data visualization library\n",
        "import matplotlib.pyplot as plt\n",
        "\n",
        "# Visualization plots\n",
        "import pylab"
      ],
      "metadata": {
        "id": "F-sopM83DnJi"
      },
      "execution_count": null,
      "outputs": []
    },
    {
      "cell_type": "code",
      "source": [
        "from google.colab import drive\n",
        "drive.mount('/content/gdrive')"
      ],
      "metadata": {
        "id": "sbmbw98BDyXT",
        "outputId": "c89f42b9-2657-4cf2-d5a5-e162877ade9a",
        "colab": {
          "base_uri": "https://localhost:8080/"
        }
      },
      "execution_count": null,
      "outputs": [
        {
          "output_type": "stream",
          "name": "stdout",
          "text": [
            "Mounted at /content/gdrive\n"
          ]
        }
      ]
    },
    {
      "cell_type": "code",
      "source": [
        "from google.colab import files\n",
        "uploaded = files.upload()"
      ],
      "metadata": {
        "id": "ox_hrtj4D4pS",
        "outputId": "1f7de075-fd64-4921-8059-9e11fdba3f7a",
        "colab": {
          "base_uri": "https://localhost:8080/",
          "height": 74
        }
      },
      "execution_count": null,
      "outputs": [
        {
          "output_type": "display_data",
          "data": {
            "text/plain": [
              "<IPython.core.display.HTML object>"
            ],
            "text/html": [
              "\n",
              "     <input type=\"file\" id=\"files-a2ce4c49-26b8-429a-b87d-de12b6812915\" name=\"files[]\" multiple disabled\n",
              "        style=\"border:none\" />\n",
              "     <output id=\"result-a2ce4c49-26b8-429a-b87d-de12b6812915\">\n",
              "      Upload widget is only available when the cell has been executed in the\n",
              "      current browser session. Please rerun this cell to enable.\n",
              "      </output>\n",
              "      <script>// Copyright 2017 Google LLC\n",
              "//\n",
              "// Licensed under the Apache License, Version 2.0 (the \"License\");\n",
              "// you may not use this file except in compliance with the License.\n",
              "// You may obtain a copy of the License at\n",
              "//\n",
              "//      http://www.apache.org/licenses/LICENSE-2.0\n",
              "//\n",
              "// Unless required by applicable law or agreed to in writing, software\n",
              "// distributed under the License is distributed on an \"AS IS\" BASIS,\n",
              "// WITHOUT WARRANTIES OR CONDITIONS OF ANY KIND, either express or implied.\n",
              "// See the License for the specific language governing permissions and\n",
              "// limitations under the License.\n",
              "\n",
              "/**\n",
              " * @fileoverview Helpers for google.colab Python module.\n",
              " */\n",
              "(function(scope) {\n",
              "function span(text, styleAttributes = {}) {\n",
              "  const element = document.createElement('span');\n",
              "  element.textContent = text;\n",
              "  for (const key of Object.keys(styleAttributes)) {\n",
              "    element.style[key] = styleAttributes[key];\n",
              "  }\n",
              "  return element;\n",
              "}\n",
              "\n",
              "// Max number of bytes which will be uploaded at a time.\n",
              "const MAX_PAYLOAD_SIZE = 100 * 1024;\n",
              "\n",
              "function _uploadFiles(inputId, outputId) {\n",
              "  const steps = uploadFilesStep(inputId, outputId);\n",
              "  const outputElement = document.getElementById(outputId);\n",
              "  // Cache steps on the outputElement to make it available for the next call\n",
              "  // to uploadFilesContinue from Python.\n",
              "  outputElement.steps = steps;\n",
              "\n",
              "  return _uploadFilesContinue(outputId);\n",
              "}\n",
              "\n",
              "// This is roughly an async generator (not supported in the browser yet),\n",
              "// where there are multiple asynchronous steps and the Python side is going\n",
              "// to poll for completion of each step.\n",
              "// This uses a Promise to block the python side on completion of each step,\n",
              "// then passes the result of the previous step as the input to the next step.\n",
              "function _uploadFilesContinue(outputId) {\n",
              "  const outputElement = document.getElementById(outputId);\n",
              "  const steps = outputElement.steps;\n",
              "\n",
              "  const next = steps.next(outputElement.lastPromiseValue);\n",
              "  return Promise.resolve(next.value.promise).then((value) => {\n",
              "    // Cache the last promise value to make it available to the next\n",
              "    // step of the generator.\n",
              "    outputElement.lastPromiseValue = value;\n",
              "    return next.value.response;\n",
              "  });\n",
              "}\n",
              "\n",
              "/**\n",
              " * Generator function which is called between each async step of the upload\n",
              " * process.\n",
              " * @param {string} inputId Element ID of the input file picker element.\n",
              " * @param {string} outputId Element ID of the output display.\n",
              " * @return {!Iterable<!Object>} Iterable of next steps.\n",
              " */\n",
              "function* uploadFilesStep(inputId, outputId) {\n",
              "  const inputElement = document.getElementById(inputId);\n",
              "  inputElement.disabled = false;\n",
              "\n",
              "  const outputElement = document.getElementById(outputId);\n",
              "  outputElement.innerHTML = '';\n",
              "\n",
              "  const pickedPromise = new Promise((resolve) => {\n",
              "    inputElement.addEventListener('change', (e) => {\n",
              "      resolve(e.target.files);\n",
              "    });\n",
              "  });\n",
              "\n",
              "  const cancel = document.createElement('button');\n",
              "  inputElement.parentElement.appendChild(cancel);\n",
              "  cancel.textContent = 'Cancel upload';\n",
              "  const cancelPromise = new Promise((resolve) => {\n",
              "    cancel.onclick = () => {\n",
              "      resolve(null);\n",
              "    };\n",
              "  });\n",
              "\n",
              "  // Wait for the user to pick the files.\n",
              "  const files = yield {\n",
              "    promise: Promise.race([pickedPromise, cancelPromise]),\n",
              "    response: {\n",
              "      action: 'starting',\n",
              "    }\n",
              "  };\n",
              "\n",
              "  cancel.remove();\n",
              "\n",
              "  // Disable the input element since further picks are not allowed.\n",
              "  inputElement.disabled = true;\n",
              "\n",
              "  if (!files) {\n",
              "    return {\n",
              "      response: {\n",
              "        action: 'complete',\n",
              "      }\n",
              "    };\n",
              "  }\n",
              "\n",
              "  for (const file of files) {\n",
              "    const li = document.createElement('li');\n",
              "    li.append(span(file.name, {fontWeight: 'bold'}));\n",
              "    li.append(span(\n",
              "        `(${file.type || 'n/a'}) - ${file.size} bytes, ` +\n",
              "        `last modified: ${\n",
              "            file.lastModifiedDate ? file.lastModifiedDate.toLocaleDateString() :\n",
              "                                    'n/a'} - `));\n",
              "    const percent = span('0% done');\n",
              "    li.appendChild(percent);\n",
              "\n",
              "    outputElement.appendChild(li);\n",
              "\n",
              "    const fileDataPromise = new Promise((resolve) => {\n",
              "      const reader = new FileReader();\n",
              "      reader.onload = (e) => {\n",
              "        resolve(e.target.result);\n",
              "      };\n",
              "      reader.readAsArrayBuffer(file);\n",
              "    });\n",
              "    // Wait for the data to be ready.\n",
              "    let fileData = yield {\n",
              "      promise: fileDataPromise,\n",
              "      response: {\n",
              "        action: 'continue',\n",
              "      }\n",
              "    };\n",
              "\n",
              "    // Use a chunked sending to avoid message size limits. See b/62115660.\n",
              "    let position = 0;\n",
              "    do {\n",
              "      const length = Math.min(fileData.byteLength - position, MAX_PAYLOAD_SIZE);\n",
              "      const chunk = new Uint8Array(fileData, position, length);\n",
              "      position += length;\n",
              "\n",
              "      const base64 = btoa(String.fromCharCode.apply(null, chunk));\n",
              "      yield {\n",
              "        response: {\n",
              "          action: 'append',\n",
              "          file: file.name,\n",
              "          data: base64,\n",
              "        },\n",
              "      };\n",
              "\n",
              "      let percentDone = fileData.byteLength === 0 ?\n",
              "          100 :\n",
              "          Math.round((position / fileData.byteLength) * 100);\n",
              "      percent.textContent = `${percentDone}% done`;\n",
              "\n",
              "    } while (position < fileData.byteLength);\n",
              "  }\n",
              "\n",
              "  // All done.\n",
              "  yield {\n",
              "    response: {\n",
              "      action: 'complete',\n",
              "    }\n",
              "  };\n",
              "}\n",
              "\n",
              "scope.google = scope.google || {};\n",
              "scope.google.colab = scope.google.colab || {};\n",
              "scope.google.colab._files = {\n",
              "  _uploadFiles,\n",
              "  _uploadFilesContinue,\n",
              "};\n",
              "})(self);\n",
              "</script> "
            ]
          },
          "metadata": {}
        },
        {
          "output_type": "stream",
          "name": "stdout",
          "text": [
            "Saving loan.csv to loan.csv\n"
          ]
        }
      ]
    },
    {
      "cell_type": "code",
      "source": [
        "# For reading the files from \n",
        "ln = pd.read_csv(\"/content/loan.csv\")"
      ],
      "metadata": {
        "id": "1rtFvXF8EY0b"
      },
      "execution_count": null,
      "outputs": []
    },
    {
      "cell_type": "markdown",
      "source": [
        "#### **`Basic Information about the Dataset`**"
      ],
      "metadata": {
        "id": "PXm1r6cfF8t8"
      }
    },
    {
      "cell_type": "code",
      "source": [
        "# Shape of the dataset\n",
        "ln.shape"
      ],
      "metadata": {
        "id": "DxpCOeIgGTU1",
        "outputId": "46296044-2bd1-4776-d6f4-2672f10efc84",
        "colab": {
          "base_uri": "https://localhost:8080/"
        }
      },
      "execution_count": null,
      "outputs": [
        {
          "output_type": "execute_result",
          "data": {
            "text/plain": [
              "(20000, 15)"
            ]
          },
          "metadata": {},
          "execution_count": 10
        }
      ]
    },
    {
      "cell_type": "markdown",
      "source": [
        "The dataset has information about 20,000 applicants with has 15 features."
      ],
      "metadata": {
        "id": "jbBtx6BAG0Pw"
      }
    },
    {
      "cell_type": "code",
      "source": [
        "# Displays top 5 entries of the dataframe\n",
        "ln.head()"
      ],
      "metadata": {
        "id": "UI6kjndTGlJO",
        "outputId": "96d7382a-7b23-4474-e443-c6e708010b3a",
        "colab": {
          "base_uri": "https://localhost:8080/",
          "height": 297
        }
      },
      "execution_count": null,
      "outputs": [
        {
          "output_type": "execute_result",
          "data": {
            "text/plain": [
              "         id grade  annual_inc  short_emp  emp_length_num home_ownership  \\\n",
              "0  11454641     A    100000.0          1               1           RENT   \n",
              "1   9604874     A     83000.0          0               4            OWN   \n",
              "2   9684700     D     78000.0          0              11       MORTGAGE   \n",
              "3   9695736     D     37536.0          0               6       MORTGAGE   \n",
              "4   9795013     D     65000.0          0              11       MORTGAGE   \n",
              "\n",
              "     dti             purpose        term  last_delinq_none  \\\n",
              "0  26.27         credit_card   36 months                 1   \n",
              "1   5.39         credit_card   36 months                 0   \n",
              "2  18.45  debt_consolidation   60 months                 1   \n",
              "3  12.28             medical   60 months                 0   \n",
              "4  11.26  debt_consolidation   36 months                 0   \n",
              "\n",
              "   last_major_derog_none  revol_util  total_rec_late_fee  od_ratio  bad_loan  \n",
              "0                    NaN        43.2                 0.0  0.160624         0  \n",
              "1                    NaN        21.5                 0.0  0.810777         0  \n",
              "2                    NaN        46.3                 0.0  0.035147         1  \n",
              "3                    NaN        10.7                 0.0  0.534887         1  \n",
              "4                    NaN        15.2                 0.0  0.166500         0  "
            ],
            "text/html": [
              "\n",
              "  <div id=\"df-47716f96-a915-4dd7-ade4-ce48110f4340\">\n",
              "    <div class=\"colab-df-container\">\n",
              "      <div>\n",
              "<style scoped>\n",
              "    .dataframe tbody tr th:only-of-type {\n",
              "        vertical-align: middle;\n",
              "    }\n",
              "\n",
              "    .dataframe tbody tr th {\n",
              "        vertical-align: top;\n",
              "    }\n",
              "\n",
              "    .dataframe thead th {\n",
              "        text-align: right;\n",
              "    }\n",
              "</style>\n",
              "<table border=\"1\" class=\"dataframe\">\n",
              "  <thead>\n",
              "    <tr style=\"text-align: right;\">\n",
              "      <th></th>\n",
              "      <th>id</th>\n",
              "      <th>grade</th>\n",
              "      <th>annual_inc</th>\n",
              "      <th>short_emp</th>\n",
              "      <th>emp_length_num</th>\n",
              "      <th>home_ownership</th>\n",
              "      <th>dti</th>\n",
              "      <th>purpose</th>\n",
              "      <th>term</th>\n",
              "      <th>last_delinq_none</th>\n",
              "      <th>last_major_derog_none</th>\n",
              "      <th>revol_util</th>\n",
              "      <th>total_rec_late_fee</th>\n",
              "      <th>od_ratio</th>\n",
              "      <th>bad_loan</th>\n",
              "    </tr>\n",
              "  </thead>\n",
              "  <tbody>\n",
              "    <tr>\n",
              "      <th>0</th>\n",
              "      <td>11454641</td>\n",
              "      <td>A</td>\n",
              "      <td>100000.0</td>\n",
              "      <td>1</td>\n",
              "      <td>1</td>\n",
              "      <td>RENT</td>\n",
              "      <td>26.27</td>\n",
              "      <td>credit_card</td>\n",
              "      <td>36 months</td>\n",
              "      <td>1</td>\n",
              "      <td>NaN</td>\n",
              "      <td>43.2</td>\n",
              "      <td>0.0</td>\n",
              "      <td>0.160624</td>\n",
              "      <td>0</td>\n",
              "    </tr>\n",
              "    <tr>\n",
              "      <th>1</th>\n",
              "      <td>9604874</td>\n",
              "      <td>A</td>\n",
              "      <td>83000.0</td>\n",
              "      <td>0</td>\n",
              "      <td>4</td>\n",
              "      <td>OWN</td>\n",
              "      <td>5.39</td>\n",
              "      <td>credit_card</td>\n",
              "      <td>36 months</td>\n",
              "      <td>0</td>\n",
              "      <td>NaN</td>\n",
              "      <td>21.5</td>\n",
              "      <td>0.0</td>\n",
              "      <td>0.810777</td>\n",
              "      <td>0</td>\n",
              "    </tr>\n",
              "    <tr>\n",
              "      <th>2</th>\n",
              "      <td>9684700</td>\n",
              "      <td>D</td>\n",
              "      <td>78000.0</td>\n",
              "      <td>0</td>\n",
              "      <td>11</td>\n",
              "      <td>MORTGAGE</td>\n",
              "      <td>18.45</td>\n",
              "      <td>debt_consolidation</td>\n",
              "      <td>60 months</td>\n",
              "      <td>1</td>\n",
              "      <td>NaN</td>\n",
              "      <td>46.3</td>\n",
              "      <td>0.0</td>\n",
              "      <td>0.035147</td>\n",
              "      <td>1</td>\n",
              "    </tr>\n",
              "    <tr>\n",
              "      <th>3</th>\n",
              "      <td>9695736</td>\n",
              "      <td>D</td>\n",
              "      <td>37536.0</td>\n",
              "      <td>0</td>\n",
              "      <td>6</td>\n",
              "      <td>MORTGAGE</td>\n",
              "      <td>12.28</td>\n",
              "      <td>medical</td>\n",
              "      <td>60 months</td>\n",
              "      <td>0</td>\n",
              "      <td>NaN</td>\n",
              "      <td>10.7</td>\n",
              "      <td>0.0</td>\n",
              "      <td>0.534887</td>\n",
              "      <td>1</td>\n",
              "    </tr>\n",
              "    <tr>\n",
              "      <th>4</th>\n",
              "      <td>9795013</td>\n",
              "      <td>D</td>\n",
              "      <td>65000.0</td>\n",
              "      <td>0</td>\n",
              "      <td>11</td>\n",
              "      <td>MORTGAGE</td>\n",
              "      <td>11.26</td>\n",
              "      <td>debt_consolidation</td>\n",
              "      <td>36 months</td>\n",
              "      <td>0</td>\n",
              "      <td>NaN</td>\n",
              "      <td>15.2</td>\n",
              "      <td>0.0</td>\n",
              "      <td>0.166500</td>\n",
              "      <td>0</td>\n",
              "    </tr>\n",
              "  </tbody>\n",
              "</table>\n",
              "</div>\n",
              "      <button class=\"colab-df-convert\" onclick=\"convertToInteractive('df-47716f96-a915-4dd7-ade4-ce48110f4340')\"\n",
              "              title=\"Convert this dataframe to an interactive table.\"\n",
              "              style=\"display:none;\">\n",
              "        \n",
              "  <svg xmlns=\"http://www.w3.org/2000/svg\" height=\"24px\"viewBox=\"0 0 24 24\"\n",
              "       width=\"24px\">\n",
              "    <path d=\"M0 0h24v24H0V0z\" fill=\"none\"/>\n",
              "    <path d=\"M18.56 5.44l.94 2.06.94-2.06 2.06-.94-2.06-.94-.94-2.06-.94 2.06-2.06.94zm-11 1L8.5 8.5l.94-2.06 2.06-.94-2.06-.94L8.5 2.5l-.94 2.06-2.06.94zm10 10l.94 2.06.94-2.06 2.06-.94-2.06-.94-.94-2.06-.94 2.06-2.06.94z\"/><path d=\"M17.41 7.96l-1.37-1.37c-.4-.4-.92-.59-1.43-.59-.52 0-1.04.2-1.43.59L10.3 9.45l-7.72 7.72c-.78.78-.78 2.05 0 2.83L4 21.41c.39.39.9.59 1.41.59.51 0 1.02-.2 1.41-.59l7.78-7.78 2.81-2.81c.8-.78.8-2.07 0-2.86zM5.41 20L4 18.59l7.72-7.72 1.47 1.35L5.41 20z\"/>\n",
              "  </svg>\n",
              "      </button>\n",
              "      \n",
              "  <style>\n",
              "    .colab-df-container {\n",
              "      display:flex;\n",
              "      flex-wrap:wrap;\n",
              "      gap: 12px;\n",
              "    }\n",
              "\n",
              "    .colab-df-convert {\n",
              "      background-color: #E8F0FE;\n",
              "      border: none;\n",
              "      border-radius: 50%;\n",
              "      cursor: pointer;\n",
              "      display: none;\n",
              "      fill: #1967D2;\n",
              "      height: 32px;\n",
              "      padding: 0 0 0 0;\n",
              "      width: 32px;\n",
              "    }\n",
              "\n",
              "    .colab-df-convert:hover {\n",
              "      background-color: #E2EBFA;\n",
              "      box-shadow: 0px 1px 2px rgba(60, 64, 67, 0.3), 0px 1px 3px 1px rgba(60, 64, 67, 0.15);\n",
              "      fill: #174EA6;\n",
              "    }\n",
              "\n",
              "    [theme=dark] .colab-df-convert {\n",
              "      background-color: #3B4455;\n",
              "      fill: #D2E3FC;\n",
              "    }\n",
              "\n",
              "    [theme=dark] .colab-df-convert:hover {\n",
              "      background-color: #434B5C;\n",
              "      box-shadow: 0px 1px 3px 1px rgba(0, 0, 0, 0.15);\n",
              "      filter: drop-shadow(0px 1px 2px rgba(0, 0, 0, 0.3));\n",
              "      fill: #FFFFFF;\n",
              "    }\n",
              "  </style>\n",
              "\n",
              "      <script>\n",
              "        const buttonEl =\n",
              "          document.querySelector('#df-47716f96-a915-4dd7-ade4-ce48110f4340 button.colab-df-convert');\n",
              "        buttonEl.style.display =\n",
              "          google.colab.kernel.accessAllowed ? 'block' : 'none';\n",
              "\n",
              "        async function convertToInteractive(key) {\n",
              "          const element = document.querySelector('#df-47716f96-a915-4dd7-ade4-ce48110f4340');\n",
              "          const dataTable =\n",
              "            await google.colab.kernel.invokeFunction('convertToInteractive',\n",
              "                                                     [key], {});\n",
              "          if (!dataTable) return;\n",
              "\n",
              "          const docLinkHtml = 'Like what you see? Visit the ' +\n",
              "            '<a target=\"_blank\" href=https://colab.research.google.com/notebooks/data_table.ipynb>data table notebook</a>'\n",
              "            + ' to learn more about interactive tables.';\n",
              "          element.innerHTML = '';\n",
              "          dataTable['output_type'] = 'display_data';\n",
              "          await google.colab.output.renderOutput(dataTable, element);\n",
              "          const docLink = document.createElement('div');\n",
              "          docLink.innerHTML = docLinkHtml;\n",
              "          element.appendChild(docLink);\n",
              "        }\n",
              "      </script>\n",
              "    </div>\n",
              "  </div>\n",
              "  "
            ]
          },
          "metadata": {},
          "execution_count": 11
        }
      ]
    },
    {
      "cell_type": "code",
      "source": [
        "# Displays bottom 5 entries of the dataframe\n",
        "ln.tail()"
      ],
      "metadata": {
        "id": "MbJ-gSKZH6gk",
        "outputId": "0ad91b70-8aef-4cdc-a158-da1929086b26",
        "colab": {
          "base_uri": "https://localhost:8080/",
          "height": 297
        }
      },
      "execution_count": null,
      "outputs": [
        {
          "output_type": "execute_result",
          "data": {
            "text/plain": [
              "            id grade  annual_inc  short_emp  emp_length_num home_ownership  \\\n",
              "19995  6595657     B     27000.0          0               9           RENT   \n",
              "19996  1576331     B     45000.0          0               2       MORTGAGE   \n",
              "19997  6645736     B    104000.0          0               5       MORTGAGE   \n",
              "19998  6625736     A     38400.0          0               2       MORTGAGE   \n",
              "19999  6625685     B    150000.0          0              11       MORTGAGE   \n",
              "\n",
              "         dti             purpose        term  last_delinq_none  \\\n",
              "19995  18.36  debt_consolidation   36 months                 1   \n",
              "19996  23.22      major_purchase   36 months                 0   \n",
              "19997  13.27  debt_consolidation   36 months                 1   \n",
              "19998  12.84  debt_consolidation   36 months                 0   \n",
              "19999   2.20         credit_card   36 months                 0   \n",
              "\n",
              "       last_major_derog_none  revol_util  total_rec_late_fee  od_ratio  \\\n",
              "19995                    NaN        46.5                 0.0  0.821782   \n",
              "19996                    NaN        46.2                 0.0  0.652200   \n",
              "19997                    NaN        78.5                 0.0  0.482555   \n",
              "19998                    NaN        47.4                 0.0  0.822980   \n",
              "19999                    NaN        40.7                 0.0  0.201388   \n",
              "\n",
              "       bad_loan  \n",
              "19995         1  \n",
              "19996         0  \n",
              "19997         0  \n",
              "19998         0  \n",
              "19999         0  "
            ],
            "text/html": [
              "\n",
              "  <div id=\"df-281bbfc1-2668-4154-bd6d-ef2aff9ccf4c\">\n",
              "    <div class=\"colab-df-container\">\n",
              "      <div>\n",
              "<style scoped>\n",
              "    .dataframe tbody tr th:only-of-type {\n",
              "        vertical-align: middle;\n",
              "    }\n",
              "\n",
              "    .dataframe tbody tr th {\n",
              "        vertical-align: top;\n",
              "    }\n",
              "\n",
              "    .dataframe thead th {\n",
              "        text-align: right;\n",
              "    }\n",
              "</style>\n",
              "<table border=\"1\" class=\"dataframe\">\n",
              "  <thead>\n",
              "    <tr style=\"text-align: right;\">\n",
              "      <th></th>\n",
              "      <th>id</th>\n",
              "      <th>grade</th>\n",
              "      <th>annual_inc</th>\n",
              "      <th>short_emp</th>\n",
              "      <th>emp_length_num</th>\n",
              "      <th>home_ownership</th>\n",
              "      <th>dti</th>\n",
              "      <th>purpose</th>\n",
              "      <th>term</th>\n",
              "      <th>last_delinq_none</th>\n",
              "      <th>last_major_derog_none</th>\n",
              "      <th>revol_util</th>\n",
              "      <th>total_rec_late_fee</th>\n",
              "      <th>od_ratio</th>\n",
              "      <th>bad_loan</th>\n",
              "    </tr>\n",
              "  </thead>\n",
              "  <tbody>\n",
              "    <tr>\n",
              "      <th>19995</th>\n",
              "      <td>6595657</td>\n",
              "      <td>B</td>\n",
              "      <td>27000.0</td>\n",
              "      <td>0</td>\n",
              "      <td>9</td>\n",
              "      <td>RENT</td>\n",
              "      <td>18.36</td>\n",
              "      <td>debt_consolidation</td>\n",
              "      <td>36 months</td>\n",
              "      <td>1</td>\n",
              "      <td>NaN</td>\n",
              "      <td>46.5</td>\n",
              "      <td>0.0</td>\n",
              "      <td>0.821782</td>\n",
              "      <td>1</td>\n",
              "    </tr>\n",
              "    <tr>\n",
              "      <th>19996</th>\n",
              "      <td>1576331</td>\n",
              "      <td>B</td>\n",
              "      <td>45000.0</td>\n",
              "      <td>0</td>\n",
              "      <td>2</td>\n",
              "      <td>MORTGAGE</td>\n",
              "      <td>23.22</td>\n",
              "      <td>major_purchase</td>\n",
              "      <td>36 months</td>\n",
              "      <td>0</td>\n",
              "      <td>NaN</td>\n",
              "      <td>46.2</td>\n",
              "      <td>0.0</td>\n",
              "      <td>0.652200</td>\n",
              "      <td>0</td>\n",
              "    </tr>\n",
              "    <tr>\n",
              "      <th>19997</th>\n",
              "      <td>6645736</td>\n",
              "      <td>B</td>\n",
              "      <td>104000.0</td>\n",
              "      <td>0</td>\n",
              "      <td>5</td>\n",
              "      <td>MORTGAGE</td>\n",
              "      <td>13.27</td>\n",
              "      <td>debt_consolidation</td>\n",
              "      <td>36 months</td>\n",
              "      <td>1</td>\n",
              "      <td>NaN</td>\n",
              "      <td>78.5</td>\n",
              "      <td>0.0</td>\n",
              "      <td>0.482555</td>\n",
              "      <td>0</td>\n",
              "    </tr>\n",
              "    <tr>\n",
              "      <th>19998</th>\n",
              "      <td>6625736</td>\n",
              "      <td>A</td>\n",
              "      <td>38400.0</td>\n",
              "      <td>0</td>\n",
              "      <td>2</td>\n",
              "      <td>MORTGAGE</td>\n",
              "      <td>12.84</td>\n",
              "      <td>debt_consolidation</td>\n",
              "      <td>36 months</td>\n",
              "      <td>0</td>\n",
              "      <td>NaN</td>\n",
              "      <td>47.4</td>\n",
              "      <td>0.0</td>\n",
              "      <td>0.822980</td>\n",
              "      <td>0</td>\n",
              "    </tr>\n",
              "    <tr>\n",
              "      <th>19999</th>\n",
              "      <td>6625685</td>\n",
              "      <td>B</td>\n",
              "      <td>150000.0</td>\n",
              "      <td>0</td>\n",
              "      <td>11</td>\n",
              "      <td>MORTGAGE</td>\n",
              "      <td>2.20</td>\n",
              "      <td>credit_card</td>\n",
              "      <td>36 months</td>\n",
              "      <td>0</td>\n",
              "      <td>NaN</td>\n",
              "      <td>40.7</td>\n",
              "      <td>0.0</td>\n",
              "      <td>0.201388</td>\n",
              "      <td>0</td>\n",
              "    </tr>\n",
              "  </tbody>\n",
              "</table>\n",
              "</div>\n",
              "      <button class=\"colab-df-convert\" onclick=\"convertToInteractive('df-281bbfc1-2668-4154-bd6d-ef2aff9ccf4c')\"\n",
              "              title=\"Convert this dataframe to an interactive table.\"\n",
              "              style=\"display:none;\">\n",
              "        \n",
              "  <svg xmlns=\"http://www.w3.org/2000/svg\" height=\"24px\"viewBox=\"0 0 24 24\"\n",
              "       width=\"24px\">\n",
              "    <path d=\"M0 0h24v24H0V0z\" fill=\"none\"/>\n",
              "    <path d=\"M18.56 5.44l.94 2.06.94-2.06 2.06-.94-2.06-.94-.94-2.06-.94 2.06-2.06.94zm-11 1L8.5 8.5l.94-2.06 2.06-.94-2.06-.94L8.5 2.5l-.94 2.06-2.06.94zm10 10l.94 2.06.94-2.06 2.06-.94-2.06-.94-.94-2.06-.94 2.06-2.06.94z\"/><path d=\"M17.41 7.96l-1.37-1.37c-.4-.4-.92-.59-1.43-.59-.52 0-1.04.2-1.43.59L10.3 9.45l-7.72 7.72c-.78.78-.78 2.05 0 2.83L4 21.41c.39.39.9.59 1.41.59.51 0 1.02-.2 1.41-.59l7.78-7.78 2.81-2.81c.8-.78.8-2.07 0-2.86zM5.41 20L4 18.59l7.72-7.72 1.47 1.35L5.41 20z\"/>\n",
              "  </svg>\n",
              "      </button>\n",
              "      \n",
              "  <style>\n",
              "    .colab-df-container {\n",
              "      display:flex;\n",
              "      flex-wrap:wrap;\n",
              "      gap: 12px;\n",
              "    }\n",
              "\n",
              "    .colab-df-convert {\n",
              "      background-color: #E8F0FE;\n",
              "      border: none;\n",
              "      border-radius: 50%;\n",
              "      cursor: pointer;\n",
              "      display: none;\n",
              "      fill: #1967D2;\n",
              "      height: 32px;\n",
              "      padding: 0 0 0 0;\n",
              "      width: 32px;\n",
              "    }\n",
              "\n",
              "    .colab-df-convert:hover {\n",
              "      background-color: #E2EBFA;\n",
              "      box-shadow: 0px 1px 2px rgba(60, 64, 67, 0.3), 0px 1px 3px 1px rgba(60, 64, 67, 0.15);\n",
              "      fill: #174EA6;\n",
              "    }\n",
              "\n",
              "    [theme=dark] .colab-df-convert {\n",
              "      background-color: #3B4455;\n",
              "      fill: #D2E3FC;\n",
              "    }\n",
              "\n",
              "    [theme=dark] .colab-df-convert:hover {\n",
              "      background-color: #434B5C;\n",
              "      box-shadow: 0px 1px 3px 1px rgba(0, 0, 0, 0.15);\n",
              "      filter: drop-shadow(0px 1px 2px rgba(0, 0, 0, 0.3));\n",
              "      fill: #FFFFFF;\n",
              "    }\n",
              "  </style>\n",
              "\n",
              "      <script>\n",
              "        const buttonEl =\n",
              "          document.querySelector('#df-281bbfc1-2668-4154-bd6d-ef2aff9ccf4c button.colab-df-convert');\n",
              "        buttonEl.style.display =\n",
              "          google.colab.kernel.accessAllowed ? 'block' : 'none';\n",
              "\n",
              "        async function convertToInteractive(key) {\n",
              "          const element = document.querySelector('#df-281bbfc1-2668-4154-bd6d-ef2aff9ccf4c');\n",
              "          const dataTable =\n",
              "            await google.colab.kernel.invokeFunction('convertToInteractive',\n",
              "                                                     [key], {});\n",
              "          if (!dataTable) return;\n",
              "\n",
              "          const docLinkHtml = 'Like what you see? Visit the ' +\n",
              "            '<a target=\"_blank\" href=https://colab.research.google.com/notebooks/data_table.ipynb>data table notebook</a>'\n",
              "            + ' to learn more about interactive tables.';\n",
              "          element.innerHTML = '';\n",
              "          dataTable['output_type'] = 'display_data';\n",
              "          await google.colab.output.renderOutput(dataTable, element);\n",
              "          const docLink = document.createElement('div');\n",
              "          docLink.innerHTML = docLinkHtml;\n",
              "          element.appendChild(docLink);\n",
              "        }\n",
              "      </script>\n",
              "    </div>\n",
              "  </div>\n",
              "  "
            ]
          },
          "metadata": {},
          "execution_count": 12
        }
      ]
    },
    {
      "cell_type": "code",
      "source": [
        "# Get the column names of the dataframe\n",
        "ln.columns"
      ],
      "metadata": {
        "id": "jzBS6wGfIEPk",
        "outputId": "dc5c1014-f31b-4662-f710-e3ea70884394",
        "colab": {
          "base_uri": "https://localhost:8080/"
        }
      },
      "execution_count": null,
      "outputs": [
        {
          "output_type": "execute_result",
          "data": {
            "text/plain": [
              "Index(['id', 'grade', 'annual_inc', 'short_emp', 'emp_length_num',\n",
              "       'home_ownership', 'dti', 'purpose', 'term', 'last_delinq_none',\n",
              "       'last_major_derog_none', 'revol_util', 'total_rec_late_fee', 'od_ratio',\n",
              "       'bad_loan'],\n",
              "      dtype='object')"
            ]
          },
          "metadata": {},
          "execution_count": 13
        }
      ]
    },
    {
      "cell_type": "code",
      "source": [
        "# The describe(), returns description about the statistical values of the \n",
        "# numerical data in the DataFrame.\n",
        "ln.describe()"
      ],
      "metadata": {
        "id": "cw0ZxXhZIIox",
        "outputId": "d3c5eb13-03fc-4320-8ec5-ca74088f4b5e",
        "colab": {
          "base_uri": "https://localhost:8080/",
          "height": 364
        }
      },
      "execution_count": null,
      "outputs": [
        {
          "output_type": "execute_result",
          "data": {
            "text/plain": [
              "                 id      annual_inc     short_emp  emp_length_num  \\\n",
              "count  2.000000e+04    20000.000000  20000.000000     20000.00000   \n",
              "mean   7.590662e+06    73349.578350      0.112500         6.82140   \n",
              "std    1.609593e+06    45198.567255      0.315989         3.77423   \n",
              "min    5.860400e+05     8412.000000      0.000000         0.00000   \n",
              "25%    6.206283e+06    47000.000000      0.000000         3.00000   \n",
              "50%    7.378896e+06    65000.000000      0.000000         7.00000   \n",
              "75%    8.766235e+06    88000.000000      0.000000        11.00000   \n",
              "max    1.145464e+07  1000000.000000      1.000000        11.00000   \n",
              "\n",
              "                dti  last_delinq_none  last_major_derog_none    revol_util  \\\n",
              "count  19846.000000      20000.000000             574.000000  20000.000000   \n",
              "mean      16.587841          0.546600               0.759582     55.958148   \n",
              "std        7.585812          0.497836               0.427710     42.117456   \n",
              "min        0.000000          0.000000               0.000000      0.000000   \n",
              "25%       10.852500          0.000000               1.000000     38.800000   \n",
              "50%       16.190000          1.000000               1.000000     57.100000   \n",
              "75%       22.060000          1.000000               1.000000     73.900000   \n",
              "max       34.990000          1.000000               1.000000   5010.000000   \n",
              "\n",
              "       total_rec_late_fee      od_ratio     bad_loan  \n",
              "count        20000.000000  20000.000000  20000.00000  \n",
              "mean             0.290622      0.504430      0.20000  \n",
              "std              3.108654      0.287720      0.40001  \n",
              "min              0.000000      0.000077      0.00000  \n",
              "25%              0.000000      0.257356      0.00000  \n",
              "50%              0.000000      0.506681      0.00000  \n",
              "75%              0.000000      0.753771      0.00000  \n",
              "max             96.466600      0.999894      1.00000  "
            ],
            "text/html": [
              "\n",
              "  <div id=\"df-2ee5af68-92ba-4b7d-8f02-565d1a92f818\">\n",
              "    <div class=\"colab-df-container\">\n",
              "      <div>\n",
              "<style scoped>\n",
              "    .dataframe tbody tr th:only-of-type {\n",
              "        vertical-align: middle;\n",
              "    }\n",
              "\n",
              "    .dataframe tbody tr th {\n",
              "        vertical-align: top;\n",
              "    }\n",
              "\n",
              "    .dataframe thead th {\n",
              "        text-align: right;\n",
              "    }\n",
              "</style>\n",
              "<table border=\"1\" class=\"dataframe\">\n",
              "  <thead>\n",
              "    <tr style=\"text-align: right;\">\n",
              "      <th></th>\n",
              "      <th>id</th>\n",
              "      <th>annual_inc</th>\n",
              "      <th>short_emp</th>\n",
              "      <th>emp_length_num</th>\n",
              "      <th>dti</th>\n",
              "      <th>last_delinq_none</th>\n",
              "      <th>last_major_derog_none</th>\n",
              "      <th>revol_util</th>\n",
              "      <th>total_rec_late_fee</th>\n",
              "      <th>od_ratio</th>\n",
              "      <th>bad_loan</th>\n",
              "    </tr>\n",
              "  </thead>\n",
              "  <tbody>\n",
              "    <tr>\n",
              "      <th>count</th>\n",
              "      <td>2.000000e+04</td>\n",
              "      <td>20000.000000</td>\n",
              "      <td>20000.000000</td>\n",
              "      <td>20000.00000</td>\n",
              "      <td>19846.000000</td>\n",
              "      <td>20000.000000</td>\n",
              "      <td>574.000000</td>\n",
              "      <td>20000.000000</td>\n",
              "      <td>20000.000000</td>\n",
              "      <td>20000.000000</td>\n",
              "      <td>20000.00000</td>\n",
              "    </tr>\n",
              "    <tr>\n",
              "      <th>mean</th>\n",
              "      <td>7.590662e+06</td>\n",
              "      <td>73349.578350</td>\n",
              "      <td>0.112500</td>\n",
              "      <td>6.82140</td>\n",
              "      <td>16.587841</td>\n",
              "      <td>0.546600</td>\n",
              "      <td>0.759582</td>\n",
              "      <td>55.958148</td>\n",
              "      <td>0.290622</td>\n",
              "      <td>0.504430</td>\n",
              "      <td>0.20000</td>\n",
              "    </tr>\n",
              "    <tr>\n",
              "      <th>std</th>\n",
              "      <td>1.609593e+06</td>\n",
              "      <td>45198.567255</td>\n",
              "      <td>0.315989</td>\n",
              "      <td>3.77423</td>\n",
              "      <td>7.585812</td>\n",
              "      <td>0.497836</td>\n",
              "      <td>0.427710</td>\n",
              "      <td>42.117456</td>\n",
              "      <td>3.108654</td>\n",
              "      <td>0.287720</td>\n",
              "      <td>0.40001</td>\n",
              "    </tr>\n",
              "    <tr>\n",
              "      <th>min</th>\n",
              "      <td>5.860400e+05</td>\n",
              "      <td>8412.000000</td>\n",
              "      <td>0.000000</td>\n",
              "      <td>0.00000</td>\n",
              "      <td>0.000000</td>\n",
              "      <td>0.000000</td>\n",
              "      <td>0.000000</td>\n",
              "      <td>0.000000</td>\n",
              "      <td>0.000000</td>\n",
              "      <td>0.000077</td>\n",
              "      <td>0.00000</td>\n",
              "    </tr>\n",
              "    <tr>\n",
              "      <th>25%</th>\n",
              "      <td>6.206283e+06</td>\n",
              "      <td>47000.000000</td>\n",
              "      <td>0.000000</td>\n",
              "      <td>3.00000</td>\n",
              "      <td>10.852500</td>\n",
              "      <td>0.000000</td>\n",
              "      <td>1.000000</td>\n",
              "      <td>38.800000</td>\n",
              "      <td>0.000000</td>\n",
              "      <td>0.257356</td>\n",
              "      <td>0.00000</td>\n",
              "    </tr>\n",
              "    <tr>\n",
              "      <th>50%</th>\n",
              "      <td>7.378896e+06</td>\n",
              "      <td>65000.000000</td>\n",
              "      <td>0.000000</td>\n",
              "      <td>7.00000</td>\n",
              "      <td>16.190000</td>\n",
              "      <td>1.000000</td>\n",
              "      <td>1.000000</td>\n",
              "      <td>57.100000</td>\n",
              "      <td>0.000000</td>\n",
              "      <td>0.506681</td>\n",
              "      <td>0.00000</td>\n",
              "    </tr>\n",
              "    <tr>\n",
              "      <th>75%</th>\n",
              "      <td>8.766235e+06</td>\n",
              "      <td>88000.000000</td>\n",
              "      <td>0.000000</td>\n",
              "      <td>11.00000</td>\n",
              "      <td>22.060000</td>\n",
              "      <td>1.000000</td>\n",
              "      <td>1.000000</td>\n",
              "      <td>73.900000</td>\n",
              "      <td>0.000000</td>\n",
              "      <td>0.753771</td>\n",
              "      <td>0.00000</td>\n",
              "    </tr>\n",
              "    <tr>\n",
              "      <th>max</th>\n",
              "      <td>1.145464e+07</td>\n",
              "      <td>1000000.000000</td>\n",
              "      <td>1.000000</td>\n",
              "      <td>11.00000</td>\n",
              "      <td>34.990000</td>\n",
              "      <td>1.000000</td>\n",
              "      <td>1.000000</td>\n",
              "      <td>5010.000000</td>\n",
              "      <td>96.466600</td>\n",
              "      <td>0.999894</td>\n",
              "      <td>1.00000</td>\n",
              "    </tr>\n",
              "  </tbody>\n",
              "</table>\n",
              "</div>\n",
              "      <button class=\"colab-df-convert\" onclick=\"convertToInteractive('df-2ee5af68-92ba-4b7d-8f02-565d1a92f818')\"\n",
              "              title=\"Convert this dataframe to an interactive table.\"\n",
              "              style=\"display:none;\">\n",
              "        \n",
              "  <svg xmlns=\"http://www.w3.org/2000/svg\" height=\"24px\"viewBox=\"0 0 24 24\"\n",
              "       width=\"24px\">\n",
              "    <path d=\"M0 0h24v24H0V0z\" fill=\"none\"/>\n",
              "    <path d=\"M18.56 5.44l.94 2.06.94-2.06 2.06-.94-2.06-.94-.94-2.06-.94 2.06-2.06.94zm-11 1L8.5 8.5l.94-2.06 2.06-.94-2.06-.94L8.5 2.5l-.94 2.06-2.06.94zm10 10l.94 2.06.94-2.06 2.06-.94-2.06-.94-.94-2.06-.94 2.06-2.06.94z\"/><path d=\"M17.41 7.96l-1.37-1.37c-.4-.4-.92-.59-1.43-.59-.52 0-1.04.2-1.43.59L10.3 9.45l-7.72 7.72c-.78.78-.78 2.05 0 2.83L4 21.41c.39.39.9.59 1.41.59.51 0 1.02-.2 1.41-.59l7.78-7.78 2.81-2.81c.8-.78.8-2.07 0-2.86zM5.41 20L4 18.59l7.72-7.72 1.47 1.35L5.41 20z\"/>\n",
              "  </svg>\n",
              "      </button>\n",
              "      \n",
              "  <style>\n",
              "    .colab-df-container {\n",
              "      display:flex;\n",
              "      flex-wrap:wrap;\n",
              "      gap: 12px;\n",
              "    }\n",
              "\n",
              "    .colab-df-convert {\n",
              "      background-color: #E8F0FE;\n",
              "      border: none;\n",
              "      border-radius: 50%;\n",
              "      cursor: pointer;\n",
              "      display: none;\n",
              "      fill: #1967D2;\n",
              "      height: 32px;\n",
              "      padding: 0 0 0 0;\n",
              "      width: 32px;\n",
              "    }\n",
              "\n",
              "    .colab-df-convert:hover {\n",
              "      background-color: #E2EBFA;\n",
              "      box-shadow: 0px 1px 2px rgba(60, 64, 67, 0.3), 0px 1px 3px 1px rgba(60, 64, 67, 0.15);\n",
              "      fill: #174EA6;\n",
              "    }\n",
              "\n",
              "    [theme=dark] .colab-df-convert {\n",
              "      background-color: #3B4455;\n",
              "      fill: #D2E3FC;\n",
              "    }\n",
              "\n",
              "    [theme=dark] .colab-df-convert:hover {\n",
              "      background-color: #434B5C;\n",
              "      box-shadow: 0px 1px 3px 1px rgba(0, 0, 0, 0.15);\n",
              "      filter: drop-shadow(0px 1px 2px rgba(0, 0, 0, 0.3));\n",
              "      fill: #FFFFFF;\n",
              "    }\n",
              "  </style>\n",
              "\n",
              "      <script>\n",
              "        const buttonEl =\n",
              "          document.querySelector('#df-2ee5af68-92ba-4b7d-8f02-565d1a92f818 button.colab-df-convert');\n",
              "        buttonEl.style.display =\n",
              "          google.colab.kernel.accessAllowed ? 'block' : 'none';\n",
              "\n",
              "        async function convertToInteractive(key) {\n",
              "          const element = document.querySelector('#df-2ee5af68-92ba-4b7d-8f02-565d1a92f818');\n",
              "          const dataTable =\n",
              "            await google.colab.kernel.invokeFunction('convertToInteractive',\n",
              "                                                     [key], {});\n",
              "          if (!dataTable) return;\n",
              "\n",
              "          const docLinkHtml = 'Like what you see? Visit the ' +\n",
              "            '<a target=\"_blank\" href=https://colab.research.google.com/notebooks/data_table.ipynb>data table notebook</a>'\n",
              "            + ' to learn more about interactive tables.';\n",
              "          element.innerHTML = '';\n",
              "          dataTable['output_type'] = 'display_data';\n",
              "          await google.colab.output.renderOutput(dataTable, element);\n",
              "          const docLink = document.createElement('div');\n",
              "          docLink.innerHTML = docLinkHtml;\n",
              "          element.appendChild(docLink);\n",
              "        }\n",
              "      </script>\n",
              "    </div>\n",
              "  </div>\n",
              "  "
            ]
          },
          "metadata": {},
          "execution_count": 14
        }
      ]
    },
    {
      "cell_type": "code",
      "source": [
        "# Displays datatypes of all the features and non-null count values\n",
        "ln.info()"
      ],
      "metadata": {
        "id": "yx3LOHSuJsvx",
        "outputId": "5501330a-0c1d-4cc1-9b77-c1900ec90ec4",
        "colab": {
          "base_uri": "https://localhost:8080/"
        }
      },
      "execution_count": null,
      "outputs": [
        {
          "output_type": "stream",
          "name": "stdout",
          "text": [
            "<class 'pandas.core.frame.DataFrame'>\n",
            "RangeIndex: 20000 entries, 0 to 19999\n",
            "Data columns (total 15 columns):\n",
            " #   Column                 Non-Null Count  Dtype  \n",
            "---  ------                 --------------  -----  \n",
            " 0   id                     20000 non-null  int64  \n",
            " 1   grade                  20000 non-null  object \n",
            " 2   annual_inc             20000 non-null  float64\n",
            " 3   short_emp              20000 non-null  int64  \n",
            " 4   emp_length_num         20000 non-null  int64  \n",
            " 5   home_ownership         18509 non-null  object \n",
            " 6   dti                    19846 non-null  float64\n",
            " 7   purpose                20000 non-null  object \n",
            " 8   term                   20000 non-null  object \n",
            " 9   last_delinq_none       20000 non-null  int64  \n",
            " 10  last_major_derog_none  574 non-null    float64\n",
            " 11  revol_util             20000 non-null  float64\n",
            " 12  total_rec_late_fee     20000 non-null  float64\n",
            " 13  od_ratio               20000 non-null  float64\n",
            " 14  bad_loan               20000 non-null  int64  \n",
            "dtypes: float64(6), int64(5), object(4)\n",
            "memory usage: 2.3+ MB\n"
          ]
        }
      ]
    },
    {
      "cell_type": "code",
      "source": [
        "# Counting the number of distinct datatypes\n",
        "ln.dtypes.value_counts()\n"
      ],
      "metadata": {
        "colab": {
          "base_uri": "https://localhost:8080/"
        },
        "id": "nFg7xMJaUxXT",
        "outputId": "e170a88a-0083-43ca-f81c-fe9114d7c7e3"
      },
      "execution_count": null,
      "outputs": [
        {
          "output_type": "execute_result",
          "data": {
            "text/plain": [
              "float64    6\n",
              "int64      5\n",
              "object     4\n",
              "dtype: int64"
            ]
          },
          "metadata": {},
          "execution_count": 16
        }
      ]
    },
    {
      "cell_type": "code",
      "source": [
        "# Displays some of the null \n",
        "ln.isnull().sum()"
      ],
      "metadata": {
        "id": "IS-ofIAwJy7B",
        "outputId": "15acc59e-9f0e-4d50-f606-6d5b0ede5f8d",
        "colab": {
          "base_uri": "https://localhost:8080/"
        }
      },
      "execution_count": null,
      "outputs": [
        {
          "output_type": "execute_result",
          "data": {
            "text/plain": [
              "id                           0\n",
              "grade                        0\n",
              "annual_inc                   0\n",
              "short_emp                    0\n",
              "emp_length_num               0\n",
              "home_ownership            1491\n",
              "dti                        154\n",
              "purpose                      0\n",
              "term                         0\n",
              "last_delinq_none             0\n",
              "last_major_derog_none    19426\n",
              "revol_util                   0\n",
              "total_rec_late_fee           0\n",
              "od_ratio                     0\n",
              "bad_loan                     0\n",
              "dtype: int64"
            ]
          },
          "metadata": {},
          "execution_count": 17
        }
      ]
    },
    {
      "cell_type": "code",
      "source": [
        "# To find the duplicate entries present in the given dataset\n",
        "ln.duplicated().sum()"
      ],
      "metadata": {
        "colab": {
          "base_uri": "https://localhost:8080/"
        },
        "id": "k-mPH3r7Kem9",
        "outputId": "d55fd66d-bab8-4723-e1a8-a8bdb339c76a"
      },
      "execution_count": null,
      "outputs": [
        {
          "output_type": "execute_result",
          "data": {
            "text/plain": [
              "0"
            ]
          },
          "metadata": {},
          "execution_count": 18
        }
      ]
    },
    {
      "cell_type": "code",
      "source": [
        "# Checking data balance/proportion\n",
        "loan = ln.bad_loan.value_counts().to_frame().rename(columns={\"bad_loan\":\"absolute\"})\n",
        "loan[\"percent\"] = (loan.apply(lambda x: x/x.sum()*100).round(2))\n",
        "\n",
        "ln.bad_loan.value_counts().plot(kind='pie', subplots=True, autopct='%1.2f%%', explode= (0.05, 0.05), startangle=80, legend=True, fontsize=12, figsize=(14,6), textprops={'color':\"black\"})\n",
        "plt.legend([\"0: Loan paid\",\"1: Loan not paid\"])\n"
      ],
      "metadata": {
        "colab": {
          "base_uri": "https://localhost:8080/",
          "height": 517
        },
        "id": "NtK_Y124caIu",
        "outputId": "dffeba89-13a8-4ffa-c1c4-9aabae938d48"
      },
      "execution_count": null,
      "outputs": [
        {
          "output_type": "execute_result",
          "data": {
            "text/plain": [
              "<matplotlib.legend.Legend at 0x7f981a1fe190>"
            ]
          },
          "metadata": {},
          "execution_count": 54
        },
        {
          "output_type": "display_data",
          "data": {
            "text/plain": [
              "<Figure size 1400x600 with 1 Axes>"
            ],
            "image/png": "[encoded data removed]"
          },
          "metadata": {}
        }
      ]
    },
    {
      "cell_type": "markdown",
      "source": [
        "### **`Preprocessing`** "
      ],
      "metadata": {
        "id": "6_wUaOC0KUtc"
      }
    },
    {
      "cell_type": "markdown",
      "source": [
        "###### **1. Variance Test**"
      ],
      "metadata": {
        "id": "_CbbvLw1YQik"
      }
    },
    {
      "cell_type": "code",
      "source": [
        "Variance_data = ln.var()\n",
        "Variance_data"
      ],
      "metadata": {
        "colab": {
          "base_uri": "https://localhost:8080/"
        },
        "id": "qfMRz75cYKaq",
        "outputId": "1c64c729-709a-4f09-d924-3c8a2b38b808"
      },
      "execution_count": null,
      "outputs": [
        {
          "output_type": "stream",
          "name": "stderr",
          "text": [
            "<ipython-input-19-29c9960545a2>:1: FutureWarning: Dropping of nuisance columns in DataFrame reductions (with 'numeric_only=None') is deprecated; in a future version this will raise TypeError.  Select only valid columns before calling the reduction.\n",
            "  Variance_data = ln.var()\n"
          ]
        },
        {
          "output_type": "execute_result",
          "data": {
            "text/plain": [
              "id                       2.590791e+12\n",
              "annual_inc               2.042910e+09\n",
              "short_emp                9.984874e-02\n",
              "emp_length_num           1.424481e+01\n",
              "dti                      5.754454e+01\n",
              "last_delinq_none         2.478408e-01\n",
              "last_major_derog_none    1.829360e-01\n",
              "revol_util               1.773880e+03\n",
              "total_rec_late_fee       9.663732e+00\n",
              "od_ratio                 8.278289e-02\n",
              "bad_loan                 1.600080e-01\n",
              "dtype: float64"
            ]
          },
          "metadata": {},
          "execution_count": 19
        }
      ]
    },
    {
      "cell_type": "markdown",
      "source": [
        "Variance is a measurement of the spread between numbers in a data set."
      ],
      "metadata": {
        "id": "_rYBB3BMYaF7"
      }
    },
    {
      "cell_type": "markdown",
      "source": [
        "###### **2. Missing Values Treatment**"
      ],
      "metadata": {
        "id": "juuBehJAVQ1K"
      }
    },
    {
      "cell_type": "code",
      "source": [
        "for column in ln.columns:\n",
        "    if ln[column].isna().sum() != 0:\n",
        "        missing = ln[column].isna().sum()\n",
        "        portion = (missing / ln.shape[0]) * 100\n",
        "        print(f\"'{column}': Missing values '{missing}' ---> '{portion:.3f}%'\")"
      ],
      "metadata": {
        "colab": {
          "base_uri": "https://localhost:8080/"
        },
        "id": "QJsWT-txd5bD",
        "outputId": "ffbabf15-9601-4fec-efc2-379df279948c"
      },
      "execution_count": null,
      "outputs": [
        {
          "output_type": "stream",
          "name": "stdout",
          "text": [
            "'home_ownership': Missing values '1491' ---> '7.455%'\n",
            "'dti': Missing values '154' ---> '0.770%'\n",
            "'last_major_derog_none': Missing values '19426' ---> '97.130%'\n"
          ]
        }
      ]
    },
    {
      "cell_type": "code",
      "source": [
        "# 1.last_major_derog_none\n",
        "# Since 97 percent of the data is missing, the column (Atleast 90 days of bad rating) is dropped\n",
        "ln = ln.drop(['last_major_derog_none'],axis=1)"
      ],
      "metadata": {
        "id": "OdYpVR8xWAET"
      },
      "execution_count": null,
      "outputs": []
    },
    {
      "cell_type": "code",
      "source": [
        "# 2. dti - Numerical datatype - Mean Imputation\n",
        "# Finding the mean of the column having NaN\n",
        "# Replace NaNs with the mean of values in the same column\n",
        "ln['dti'].fillna(value=ln['dti'].mean(), inplace=True)"
      ],
      "metadata": {
        "id": "g4TuSte_ZxZc"
      },
      "execution_count": null,
      "outputs": []
    },
    {
      "cell_type": "code",
      "source": [
        "ln['home_ownership'].value_counts(dropna=False)"
      ],
      "metadata": {
        "colab": {
          "base_uri": "https://localhost:8080/"
        },
        "id": "0h7oo-vaaRPC",
        "outputId": "c1176045-bcfb-4a89-c053-640c54c53cbd"
      },
      "execution_count": null,
      "outputs": [
        {
          "output_type": "execute_result",
          "data": {
            "text/plain": [
              "MORTGAGE    9844\n",
              "RENT        7052\n",
              "OWN         1613\n",
              "NaN         1491\n",
              "Name: home_ownership, dtype: int64"
            ]
          },
          "metadata": {},
          "execution_count": 23
        }
      ]
    },
    {
      "cell_type": "code",
      "source": [
        "# 3. home_ownership\n",
        "ln['home_ownership'].value_counts(dropna=False).plot(kind='bar',color=['orange', 'green', 'blue', 'red'])"
      ],
      "metadata": {
        "colab": {
          "base_uri": "https://localhost:8080/",
          "height": 513
        },
        "id": "_tlQqUX5iYwo",
        "outputId": "8cb9ad1c-1cb1-48e4-913c-95acd9e64bd0"
      },
      "execution_count": null,
      "outputs": [
        {
          "output_type": "execute_result",
          "data": {
            "text/plain": [
              "<Axes: >"
            ]
          },
          "metadata": {},
          "execution_count": 24
        },
        {
          "output_type": "display_data",
          "data": {
            "text/plain": [
              "<Figure size 640x480 with 1 Axes>"
            ],
            "image/png": "[encoded data removed]"
          },
          "metadata": {}
        }
      ]
    },
    {
      "cell_type": "code",
      "source": [
        "# Home_ownership is a categorical datatype - Mode Imputer or KNN Imputer could be applied"
      ],
      "metadata": {
        "id": "jrvp8KLHlLv0"
      },
      "execution_count": null,
      "outputs": []
    },
    {
      "cell_type": "code",
      "source": [
        "# a. Mode imputation replaces the missing values with the most common category (mode) of the variable, \n",
        "#    while K-nearest neighbor imputation replaces the missing values with the categories of the K-nearest neighbors.\n",
        "\n",
        "# b. Mode imputation is a simpler method and can be applied quickly to large datasets, \n",
        "#    while K-nearest neighbor imputation is more complex and can be computationally expensive, especially for large datasets.\n",
        "\n",
        "# c. Mode imputation is best suited for variables that are skewed towards a particular category, \n",
        "#    while K-nearest neighbor imputation is best suited for variables where the categories are evenly distributed.\n",
        "\n",
        "# In summary, mode imputation is a simple and effective method for imputing missing values in \n",
        "# categorical variables, while K-nearest neighbor imputation is a more complex method that can be\n",
        "# used when the categories of the variable are evenly distributed and there are no clear modes."
      ],
      "metadata": {
        "id": "UOKy-0eJ8qFF"
      },
      "execution_count": null,
      "outputs": []
    },
    {
      "cell_type": "code",
      "source": [
        "# Mode Imputation"
      ],
      "metadata": {
        "id": "40xzp6aJN5R2"
      },
      "execution_count": null,
      "outputs": []
    },
    {
      "cell_type": "code",
      "source": [
        "from sklearn.impute import SimpleImputer\n",
        "mode_imputer = SimpleImputer(missing_values=np.nan, strategy='most_frequent')"
      ],
      "metadata": {
        "id": "bNq6e8vlN_Ka"
      },
      "execution_count": null,
      "outputs": []
    },
    {
      "cell_type": "code",
      "source": [
        "ln['home_ownership'] = pd.DataFrame(mode_imputer.fit_transform(ln[['home_ownership']]))"
      ],
      "metadata": {
        "id": "_hxCGUtuPwRA"
      },
      "execution_count": null,
      "outputs": []
    },
    {
      "cell_type": "code",
      "source": [
        "print(f\"Imputation done. Missing values: {ln.isnull().sum()}\")"
      ],
      "metadata": {
        "colab": {
          "base_uri": "https://localhost:8080/"
        },
        "id": "c2UA7qPSZAj9",
        "outputId": "c2e63498-be8a-48b7-90d5-72b56a76ee17"
      },
      "execution_count": null,
      "outputs": [
        {
          "output_type": "stream",
          "name": "stdout",
          "text": [
            "Imputation done. Missing values: id                    0\n",
            "grade                 0\n",
            "annual_inc            0\n",
            "short_emp             0\n",
            "emp_length_num        0\n",
            "home_ownership        0\n",
            "dti                   0\n",
            "purpose               0\n",
            "term                  0\n",
            "last_delinq_none      0\n",
            "revol_util            0\n",
            "total_rec_late_fee    0\n",
            "od_ratio              0\n",
            "bad_loan              0\n",
            "dtype: int64\n"
          ]
        }
      ]
    },
    {
      "cell_type": "markdown",
      "source": [],
      "metadata": {
        "id": "LNfvMJdegwf0"
      }
    },
    {
      "cell_type": "markdown",
      "source": [
        "###### **3. Histogram and Skewness**"
      ],
      "metadata": {
        "id": "gUKIP80lgzHR"
      }
    },
    {
      "cell_type": "code",
      "source": [
        "# Histogram is a univariate plot  ('annual_inc','emp_length_num','dti','revol_util','od_ratio')\n",
        "# Primary Purpose is to find the spread of the Data (Symmetry)\n",
        "# Seconday Purpose is to find the outliers\n",
        "plt.hist(ln.annual_inc, color='green') \n",
        "plt.ylabel('Annual Income')\n",
        "plt.xlabel('Frequency')\n",
        "plt.show()\n",
        "plt.hist(ln.emp_length_num, color='yellow') \n",
        "plt.ylabel('Experience (years)')\n",
        "plt.xlabel('Frequency')\n",
        "plt.show()\n",
        "plt.hist(ln.dti, color='blue') \n",
        "plt.ylabel('Debt-To-Income ratio')\n",
        "plt.xlabel('Frequency')\n",
        "plt.show()\n",
        "plt.hist(ln.revol_util, color='Orange') \n",
        "plt.ylabel('Percentage of credit utilization')\n",
        "plt.xlabel('Frequency')\n",
        "plt.show()\n",
        "plt.hist(ln.od_ratio, color='red') \n",
        "plt.ylabel('Over Draft Ratio')\n",
        "plt.xlabel('Frequency')\n",
        "plt.show()"
      ],
      "metadata": {
        "colab": {
          "base_uri": "https://localhost:8080/",
          "height": 1000
        },
        "id": "I61WhQTeh6DZ",
        "outputId": "6c53dd17-408e-4a75-8899-2b6936ed71bd"
      },
      "execution_count": null,
      "outputs": [
        {
          "output_type": "display_data",
          "data": {
            "text/plain": [
              "<Figure size 640x480 with 1 Axes>"
            ],
            "image/png": "[encoded data removed]"
          },
          "metadata": {}
        },
        {
          "output_type": "display_data",
          "data": {
            "text/plain": [
              "<Figure size 640x480 with 1 Axes>"
            ],
            "image/png": "[encoded data removed]"
          },
          "metadata": {}
        },
        {
          "output_type": "display_data",
          "data": {
            "text/plain": [
              "<Figure size 640x480 with 1 Axes>"
            ],
            "image/png": "[encoded data removed]"
          },
          "metadata": {}
        },
        {
          "output_type": "display_data",
          "data": {
            "text/plain": [
              "<Figure size 640x480 with 1 Axes>"
            ],
            "image/png": "[encoded data removed]"
          },
          "metadata": {}
        },
        {
          "output_type": "display_data",
          "data": {
            "text/plain": [
              "<Figure size 640x480 with 1 Axes>"
            ],
            "image/png": "[encoded data removed]"
          },
          "metadata": {}
        }
      ]
    },
    {
      "cell_type": "markdown",
      "source": [
        "###### **4. Outlier Analysis**"
      ],
      "metadata": {
        "id": "w37UrZV7vXsQ"
      }
    },
    {
      "cell_type": "code",
      "source": [
        "# If there are outliers present in the data, it can be replaced with the values of upper and lower values \n",
        "#    (winsorization) or it can be removed (trimming).\n",
        "# Can be applied only in the numerical columns ['annual_inc','emp_length_num','dti','revol_util','od_ratio']\n",
        "\n",
        "# we can either remove or rectify using mean or median imputation. \n",
        "# dropping is not a good idea as we will be left with very fewer observations \n",
        "# due to higher percentage of outliers to train our model on, also if we replace \n",
        "# such a big percentage of the outliers with some approach (mean, median...etc.) \n",
        "# then it might result into less accurate or biased model.\n",
        "\n",
        "# we can use an alternative : let's drop the extreme outliers and replace the \n",
        "# remaning by some approach (mean, median.....etc.)"
      ],
      "metadata": {
        "id": "v5bsQkEFvlXi"
      },
      "execution_count": null,
      "outputs": []
    },
    {
      "cell_type": "code",
      "source": [
        "# 1. annual_inc\n",
        "q1,q3 = np.percentile(ln.annual_inc, [25,75])\n",
        "iqr   = q3-q1\n",
        "lower_inner_fence = q1 - 1.5*iqr\n",
        "upper_inner_fence = q3 + 1.5*iqr\n",
        "outlier = ln.annual_inc[(ln.annual_inc < lower_inner_fence) | (ln.annual_inc > upper_inner_fence)]\n",
        "perc = (outlier.count()/ln.annual_inc.count())*100\n",
        "print('Outliers in Quantity is %.2f%% with count %.f' % (perc, outlier.count()))\n",
        "    \n",
        "lower_outer_fence = q1 - 3*iqr\n",
        "upper_outer_fence = q3 + 3*iqr\n",
        "outlier_extreme = ln.annual_inc[(ln.annual_inc < lower_outer_fence) | (ln.annual_inc > upper_outer_fence)]\n",
        "perc1 = (outlier_extreme.count()/ln.annual_inc.count())*100\n",
        "print('Extreme Outliers in Quantity is %.2f%% with count %.f' % (perc1, outlier_extreme.count()))\n",
        "\n",
        "sns.boxplot(x=ln['annual_inc'])"
      ],
      "metadata": {
        "colab": {
          "base_uri": "https://localhost:8080/",
          "height": 504
        },
        "id": "e5S19BNnvslj",
        "outputId": "c8b26c9c-f5be-49a1-ac72-260d31449cbb"
      },
      "execution_count": null,
      "outputs": [
        {
          "output_type": "stream",
          "name": "stdout",
          "text": [
            "Outliers in Quantity is 4.63% with count 926\n",
            "Extreme Outliers in Quantity is 1.24% with count 249\n"
          ]
        },
        {
          "output_type": "execute_result",
          "data": {
            "text/plain": [
              "<Axes: xlabel='annual_inc'>"
            ]
          },
          "metadata": {},
          "execution_count": 74
        },
        {
          "output_type": "display_data",
          "data": {
            "text/plain": [
              "<Figure size 640x480 with 1 Axes>"
            ],
            "image/png": "[encoded data removed]"
          },
          "metadata": {}
        }
      ]
    },
    {
      "cell_type": "code",
      "source": [
        "# Outlier Treatment"
      ],
      "metadata": {
        "id": "9AMggFNh00_K"
      },
      "execution_count": null,
      "outputs": []
    },
    {
      "cell_type": "code",
      "source": [
        "# 2. emp_length_num\n",
        "q1,q3 = np.percentile(ln.emp_length_num, [25,75])\n",
        "iqr   = q3-q1\n",
        "lower_inner_fence = q1 - 1.5*iqr\n",
        "upper_inner_fence = q3 + 1.5*iqr\n",
        "outlier = ln.emp_length_num[(ln.emp_length_num < lower_inner_fence) | (ln.emp_length_num> upper_inner_fence)]\n",
        "perc = (outlier.count()/ln.emp_length_num.count())*100\n",
        "print('Outliers in Quantity is %.2f%% with count %.f' % (perc, outlier.count()))\n",
        "    \n",
        "lower_outer_fence = q1 - 3*iqr\n",
        "upper_outer_fence = q3 + 3*iqr\n",
        "outlier_extreme = ln.emp_length_num[(ln.emp_length_num < lower_outer_fence) | (ln.emp_length_num > upper_outer_fence)]\n",
        "perc1 = (outlier_extreme.count()/ln.emp_length_num.count())*100\n",
        "print('Extreme Outliers in Quantity is %.2f%% with count %.f' % (perc1, outlier_extreme.count()))\n",
        "\n",
        "sns.boxplot(x=ln['emp_length_num'])"
      ],
      "metadata": {
        "colab": {
          "base_uri": "https://localhost:8080/",
          "height": 504
        },
        "id": "JnTgwq-dxdKr",
        "outputId": "abda40eb-5225-411d-ac02-99ebf0ea900c"
      },
      "execution_count": null,
      "outputs": [
        {
          "output_type": "stream",
          "name": "stdout",
          "text": [
            "Outliers in Quantity is 0.00% with count 0\n",
            "Extreme Outliers in Quantity is 0.00% with count 0\n"
          ]
        },
        {
          "output_type": "execute_result",
          "data": {
            "text/plain": [
              "<Axes: xlabel='emp_length_num'>"
            ]
          },
          "metadata": {},
          "execution_count": 75
        },
        {
          "output_type": "display_data",
          "data": {
            "text/plain": [
              "<Figure size 640x480 with 1 Axes>"
            ],
            "image/png": "[encoded data removed]"
          },
          "metadata": {}
        }
      ]
    },
    {
      "cell_type": "code",
      "source": [
        "# 3. dti\n",
        "q1,q3 = np.percentile(ln.dti, [25,75])\n",
        "iqr   = q3-q1\n",
        "lower_inner_fence = q1 - 1.5*iqr\n",
        "upper_inner_fence = q3 + 1.5*iqr\n",
        "outlier = ln.dti[(ln.dti< lower_inner_fence) | (ln.dti> upper_inner_fence)]\n",
        "perc = (outlier.count()/ln.dti.count())*100\n",
        "print('Outliers in Quantity is %.2f%% with count %.f' % (perc, outlier.count()))\n",
        "    \n",
        "lower_outer_fence = q1 - 3*iqr\n",
        "upper_outer_fence = q3 + 3*iqr\n",
        "outlier_extreme = ln.dti[(ln.dti < lower_outer_fence) | (ln.dti > upper_outer_fence)]\n",
        "perc1 = (outlier_extreme.count()/ln.dti.count())*100\n",
        "print('Extreme Outliers in Quantity is %.2f%% with count %.f' % (perc1, outlier_extreme.count()))\n",
        "\n",
        "sns.boxplot(x=ln['dti'])"
      ],
      "metadata": {
        "colab": {
          "base_uri": "https://localhost:8080/",
          "height": 503
        },
        "id": "9l41NqLVxyJ1",
        "outputId": "4a88506c-1bc8-49a7-ec74-875115e4a57c"
      },
      "execution_count": null,
      "outputs": [
        {
          "output_type": "stream",
          "name": "stdout",
          "text": [
            "Outliers in Quantity is 0.00% with count 0\n",
            "Extreme Outliers in Quantity is 0.00% with count 0\n"
          ]
        },
        {
          "output_type": "execute_result",
          "data": {
            "text/plain": [
              "<Axes: xlabel='dti'>"
            ]
          },
          "metadata": {},
          "execution_count": 76
        },
        {
          "output_type": "display_data",
          "data": {
            "text/plain": [
              "<Figure size 640x480 with 1 Axes>"
            ],
            "image/png": "[encoded data removed]"
          },
          "metadata": {}
        }
      ]
    },
    {
      "cell_type": "code",
      "source": [
        "# 4. revol_util\n",
        "q1,q3 = np.percentile(ln.revol_util, [25,75])\n",
        "iqr   = q3-q1\n",
        "lower_inner_fence = q1 - 1.5*iqr\n",
        "upper_inner_fence = q3 + 1.5*iqr\n",
        "outlier = ln.revol_util[(ln.revol_util< lower_inner_fence) | (ln.revol_util> upper_inner_fence)]\n",
        "perc = (outlier.count()/ln.revol_util.count())*100\n",
        "print('Outliers in Quantity is %.2f%% with count %.f' % (perc, outlier.count()))\n",
        "    \n",
        "lower_outer_fence = q1 - 3*iqr\n",
        "upper_outer_fence = q3 + 3*iqr\n",
        "outlier_extreme = ln.revol_util[(ln.revol_util < lower_outer_fence) | (ln.revol_util > upper_outer_fence)]\n",
        "perc1 = (outlier_extreme.count()/ln.revol_util.count())*100\n",
        "print('Extreme Outliers in Quantity is %.2f%% with count %.f' % (perc1, outlier_extreme.count()))\n",
        "\n",
        "sns.boxplot(x=ln['revol_util'])"
      ],
      "metadata": {
        "colab": {
          "base_uri": "https://localhost:8080/",
          "height": 504
        },
        "id": "XcjfcTi7yFO1",
        "outputId": "b5b81ae8-3bfa-403f-d15a-279ff923a30e"
      },
      "execution_count": null,
      "outputs": [
        {
          "output_type": "stream",
          "name": "stdout",
          "text": [
            "Outliers in Quantity is 0.01% with count 2\n",
            "Extreme Outliers in Quantity is 0.01% with count 1\n"
          ]
        },
        {
          "output_type": "execute_result",
          "data": {
            "text/plain": [
              "<Axes: xlabel='revol_util'>"
            ]
          },
          "metadata": {},
          "execution_count": 77
        },
        {
          "output_type": "display_data",
          "data": {
            "text/plain": [
              "<Figure size 640x480 with 1 Axes>"
            ],
            "image/png": "[encoded data removed]"
          },
          "metadata": {}
        }
      ]
    },
    {
      "cell_type": "code",
      "source": [
        "# 5. od_ratio\n",
        "q1,q3 = np.percentile(ln.od_ratio, [25,75])\n",
        "iqr   = q3-q1\n",
        "lower_inner_fence = q1 - 1.5*iqr\n",
        "upper_inner_fence = q3 + 1.5*iqr\n",
        "outlier = ln.od_ratio[(ln.od_ratio< lower_inner_fence) | (ln.od_ratio> upper_inner_fence)]\n",
        "perc = (outlier.count()/ln.od_ratio.count())*100\n",
        "print('Outliers in Quantity is %.2f%% with count %.f' % (perc, outlier.count()))\n",
        "    \n",
        "lower_outer_fence = q1 - 3*iqr\n",
        "upper_outer_fence = q3 + 3*iqr\n",
        "outlier_extreme = ln.od_ratio[(ln.od_ratio < lower_outer_fence) | (ln.od_ratio > upper_outer_fence)]\n",
        "perc1 = (outlier_extreme.count()/ln.od_ratio.count())*100\n",
        "print('Extreme Outliers in Quantity is %.2f%% with count %.f' % (perc1, outlier_extreme.count()))\n",
        "\n",
        "sns.boxplot(x=ln['od_ratio'])"
      ],
      "metadata": {
        "colab": {
          "base_uri": "https://localhost:8080/",
          "height": 504
        },
        "id": "vgdiG1XIyV1W",
        "outputId": "23765755-4ebe-4985-85ad-e83eb3c15b40"
      },
      "execution_count": null,
      "outputs": [
        {
          "output_type": "stream",
          "name": "stdout",
          "text": [
            "Outliers in Quantity is 0.00% with count 0\n",
            "Extreme Outliers in Quantity is 0.00% with count 0\n"
          ]
        },
        {
          "output_type": "execute_result",
          "data": {
            "text/plain": [
              "<Axes: xlabel='od_ratio'>"
            ]
          },
          "metadata": {},
          "execution_count": 78
        },
        {
          "output_type": "display_data",
          "data": {
            "text/plain": [
              "<Figure size 640x480 with 1 Axes>"
            ],
            "image/png": "[encoded data removed]"
          },
          "metadata": {}
        }
      ]
    }
  ]
}